{
  "nbformat": 4,
  "nbformat_minor": 0,
  "metadata": {
    "colab": {
      "provenance": [],
      "authorship_tag": "ABX9TyO5k7TVBR+n8guNerhLBp5B",
      "include_colab_link": true
    },
    "kernelspec": {
      "name": "python3",
      "display_name": "Python 3"
    },
    "language_info": {
      "name": "python"
    }
  },
  "cells": [
    {
      "cell_type": "markdown",
      "metadata": {
        "id": "view-in-github",
        "colab_type": "text"
      },
      "source": [
        "<a href=\"https://colab.research.google.com/github/rajeshnayak23/RAJESHNAYAK_2001206023_AIML/blob/main/if_else__rajesh_nayak_023.ipynb\" target=\"_parent\"><img src=\"https://colab.research.google.com/assets/colab-badge.svg\" alt=\"Open In Colab\"/></a>"
      ]
    },
    {
      "cell_type": "code",
      "execution_count": null,
      "metadata": {
        "colab": {
          "base_uri": "https://localhost:8080/"
        },
        "id": "XbCebAgrZo9P",
        "outputId": "8ac7d4f4-0512-44b4-8b3b-e3fdbb504f88"
      },
      "outputs": [
        {
          "output_type": "stream",
          "name": "stdout",
          "text": [
            "enter the salary = 10000\n",
            "enter the service year :7\n",
            "total amount= 10500.0\n"
          ]
        }
      ],
      "source": [
        "#  1. A company decided to give bonus of 5% to employee if his/her year of service is more than 5 years.\n",
        "#  Ask user for their salary and year of service and print the net bonus amount.\n",
        "sal=int(input(\"enter the salary = \"))\n",
        "year=int(input(\"enter the service year :\"))\n",
        "if (year > 5):\n",
        "  p=(sal+(0.05*sal))\n",
        "  print(\"total amount=\",p)\n",
        "else:\n",
        "  print(\"no bonus\")\n",
        "\n",
        "\n"
      ]
    },
    {
      "cell_type": "code",
      "source": [
        "#2. Take values of length and breadth of a rectangle from user and check if it is square or not.\n",
        "l=int(input(\"enter the length =\" 7))\n",
        "b=int(input(\"enter the breadth = \"))\n",
        "if l==b:\n",
        "  print(\"it is a square\")\n",
        "else:\n",
        "  print(\"it is not a square\")"
      ],
      "metadata": {
        "colab": {
          "base_uri": "https://localhost:8080/"
        },
        "id": "ac8zEDhxceyv",
        "outputId": "15bb999c-2b1f-434b-d282-3e207d4b6516"
      },
      "execution_count": null,
      "outputs": [
        {
          "output_type": "stream",
          "name": "stdout",
          "text": [
            "enter the length =7\n",
            "enter the breadth = 7\n",
            "it is a square\n"
          ]
        }
      ]
    },
    {
      "cell_type": "code",
      "source": [
        "# 3.Take two int values from user and print greatest among them.\n",
        "a=int(input(\"enter the value of a \"))\n",
        "b=int(input(\"enter the value of b \"))\n",
        "if(a > b):\n",
        "  print(\"a is greater\",a)\n",
        "else:\n",
        "  print(\"b is greater\",b)"
      ],
      "metadata": {
        "colab": {
          "base_uri": "https://localhost:8080/"
        },
        "id": "e2qREIM9fDWx",
        "outputId": "6c396447-d314-4719-ca5b-3697db604138"
      },
      "execution_count": null,
      "outputs": [
        {
          "output_type": "stream",
          "name": "stdout",
          "text": [
            "enter the value of a 34\n",
            "enter the value of b 45\n",
            "b is greater 45\n"
          ]
        }
      ]
    },
    {
      "cell_type": "code",
      "source": [
        "#4. A shop will give discount of 10% if the cost of purchased quantity is more than 1000.\n",
        "#Ask user for quantity suppose, one unit will cost 100. Judge and print total cost for user.\n",
        "q=int(input(\"enter the quantity :\"))\n",
        "totalcost=int(100*q)\n",
        "if (totalcost > 1000):\n",
        "  print(\"totalcost=\",(totalcost-totalcost*0.1))\n",
        "else:\n",
        "  print(totalcost)"
      ],
      "metadata": {
        "colab": {
          "base_uri": "https://localhost:8080/"
        },
        "id": "xwIypKDVgFph",
        "outputId": "c1480061-6a85-43dc-cffc-d54cac5bd403"
      },
      "execution_count": null,
      "outputs": [
        {
          "output_type": "stream",
          "name": "stdout",
          "text": [
            "enter the quantity :13\n",
            "totalcost= 1170.0\n"
          ]
        }
      ]
    },
    {
      "cell_type": "code",
      "source": [
        "mark=int(input(\"enter the mark\"))\n",
        "if mark< 25:\n",
        "  print(\"grade is F\")\n",
        "elif mark>=25 and  mark < 45:\n",
        "  print(\"the grade is E\")\n",
        "elif mark>=45 and mark < 50:\n",
        "  print(\"the grade is D\")\n",
        "elif mark>=50 and mark < 60:\n",
        "  print(\"the grade is C\")\n",
        "elif mark>=60 and mark < 80:\n",
        "  print(\"the grade is B\")\n",
        "elif mark >= 80:\n",
        "  print(\"the grade is A\")\n",
        "else:\n",
        "  print(\"error\")"
      ],
      "metadata": {
        "colab": {
          "base_uri": "https://localhost:8080/"
        },
        "id": "9lLTeb_njH6j",
        "outputId": "6728499e-865a-4b49-f719-782a94740c57"
      },
      "execution_count": null,
      "outputs": [
        {
          "output_type": "stream",
          "name": "stdout",
          "text": [
            "enter the mark77\n",
            "the grade is B\n"
          ]
        }
      ]
    },
    {
      "cell_type": "code",
      "source": [
        "#Take input of age of 3 people by user and determine oldest and youngest among them\n",
        "a=int(input(\"enter the age of a\"))\n",
        "b=int(input(\"enter the age of b\"))\n",
        "c=int(input(\"enter the age of c\"))\n",
        "if a>b and a>c :\n",
        "  print(\"a is oldest\",a)\n",
        "elif b>a and b>c:\n",
        "  print(\"b is oldest\",b)\n",
        "else:\n",
        "  print(\"c is oldest3\",c)\n"
      ],
      "metadata": {
        "id": "h3MFjwkFoZTF",
        "colab": {
          "base_uri": "https://localhost:8080/"
        },
        "outputId": "b7b1c4a2-b9bd-46cd-9781-119f550183d2"
      },
      "execution_count": null,
      "outputs": [
        {
          "output_type": "stream",
          "name": "stdout",
          "text": [
            "enter the age of a56\n",
            "enter the age of b45\n",
            "enter the age of c23\n",
            "a is oldest 56\n"
          ]
        }
      ]
    },
    {
      "cell_type": "code",
      "source": [
        "num=int(input(\"enter the number\"))\n",
        "if num >= 0:\n",
        "  print(num)\n",
        "else:\n",
        "  print(-1*num) \n",
        "#in another way we can find the absolute value by using of abs() function"
      ],
      "metadata": {
        "id": "2L-hajYZ2WNh",
        "colab": {
          "base_uri": "https://localhost:8080/"
        },
        "outputId": "47ad09d1-fbfa-457a-a162-9f22ac7910dc"
      },
      "execution_count": null,
      "outputs": [
        {
          "output_type": "stream",
          "name": "stdout",
          "text": [
            "enter the number-57\n",
            "57\n"
          ]
        }
      ]
    },
    {
      "cell_type": "code",
      "source": [
        "c=int(input(\"enter the number of classes held\"))\n",
        "a=int(input(\"enter the number of classes attend\"))\n",
        "p=(a/c)*100\n",
        "print(\"percentage of class attened is\",p)\n",
        "if p< 75:\n",
        "  print(\"the student is not allowed to sit in the exam hall\")\n",
        "else:\n",
        "  print(\"the student is allowed to sit in the exam hall\")"
      ],
      "metadata": {
        "colab": {
          "base_uri": "https://localhost:8080/"
        },
        "id": "VP2PdXcWYF61",
        "outputId": "76030ffe-24e4-47d1-adb9-8b9838d2c87c"
      },
      "execution_count": null,
      "outputs": [
        {
          "output_type": "stream",
          "name": "stdout",
          "text": [
            "enter the number of classes held100\n",
            "enter the number of classes attend75\n",
            "percentage of class attened is 75.0\n",
            "the student is allowed to sit in the exam hall\n"
          ]
        }
      ]
    },
    {
      "cell_type": "code",
      "source": [
        "light=input(\"enter the light colour  :\")\n",
        "if light==\"green\":\n",
        "  print(\"go\")\n",
        "elif light==\"red\":\n",
        "  print(\"stop\")\n",
        "elif light==\"yellow\":\n",
        "  print(\"wait\")\n",
        "else:\n",
        "  print(\"invalid trafic light colour\")"
      ],
      "metadata": {
        "colab": {
          "base_uri": "https://localhost:8080/"
        },
        "id": "0qxkRPhNZpmC",
        "outputId": "9411e05a-dff9-4e33-9a7f-b19578eb42b4"
      },
      "execution_count": null,
      "outputs": [
        {
          "output_type": "stream",
          "name": "stdout",
          "text": [
            "enter the light colour  :red\n",
            "stop\n"
          ]
        }
      ]
    },
    {
      "cell_type": "code",
      "source": [
        "#Write a program to reverse an integer in Python\n",
        "n=int(input(\"enter the number :\"))\n",
        "rev=0\n",
        "while n>0:\n",
        "  temp=n%10\n",
        "  rev=rev*10+temp\n",
        "  n=n//10\n",
        "print(rev)\n"
      ],
      "metadata": {
        "id": "lxvQGlPqbXUo",
        "colab": {
          "base_uri": "https://localhost:8080/"
        },
        "outputId": "987bc6e0-ef52-4638-e641-61be91a167c6"
      },
      "execution_count": null,
      "outputs": [
        {
          "output_type": "stream",
          "name": "stdout",
          "text": [
            "enter the number :324567\n",
            "765423\n"
          ]
        }
      ]
    },
    {
      "cell_type": "code",
      "source": [
        "\n",
        "#Write a program in Python to check whether an integer is Armstrong number or not.\n",
        "n=int(input(\"enter the number =\"))\n",
        "sum=0\n",
        "temp=n\n",
        "while temp>0:\n",
        "  t=temp%10\n",
        "  sum =sum+t*t*t\n",
        "  temp=temp//10\n",
        "if n==sum:\n",
        "  print(\"armstrong number\",n)\n",
        "else:\n",
        "  print(\"not armstrong number\",n)"
      ],
      "metadata": {
        "colab": {
          "base_uri": "https://localhost:8080/"
        },
        "id": "UrwkCqiMtqMV",
        "outputId": "356b8b2f-f121-4e5c-aa92-8b660437c1d0"
      },
      "execution_count": null,
      "outputs": [
        {
          "output_type": "stream",
          "name": "stdout",
          "text": [
            "enter the number =153\n",
            "armstrong number 153\n"
          ]
        }
      ]
    },
    {
      "cell_type": "code",
      "source": [
        "num = int(input(\"Enter a number: \"))\n",
        "\n",
        "if num == 1:\n",
        "    print(num, \"is not a prime number\")\n",
        "elif num > 1:\n",
        "   for i in range(2,num):\n",
        "       if (num % i) == 0:\n",
        "           print(num,\"is not a prime number\")\n",
        "           break\n",
        "   else:\n",
        "       print(num,\"is a prime number\")\n",
        "else:\n",
        "   print(num,\"is not a prime number\")\n"
      ],
      "metadata": {
        "colab": {
          "base_uri": "https://localhost:8080/"
        },
        "id": "bHlfp6z11fG2",
        "outputId": "20e1bb90-ab86-47bd-d67a-d25990840613"
      },
      "execution_count": null,
      "outputs": [
        {
          "output_type": "stream",
          "name": "stdout",
          "text": [
            "Enter a number: 234567\n",
            "234567 is not a prime number\n",
            "3 times 78189 is 234567\n"
          ]
        }
      ]
    },
    {
      "cell_type": "code",
      "source": [],
      "metadata": {
        "id": "KrQD1J2hEY1Z"
      },
      "execution_count": null,
      "outputs": []
    }
  ]
}
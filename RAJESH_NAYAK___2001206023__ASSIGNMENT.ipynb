{
  "nbformat": 4,
  "nbformat_minor": 0,
  "metadata": {
    "colab": {
      "provenance": [],
      "authorship_tag": "ABX9TyMGOgGgk7vobxN7zItaAzhr",
      "include_colab_link": true
    },
    "kernelspec": {
      "name": "python3",
      "display_name": "Python 3"
    },
    "language_info": {
      "name": "python"
    }
  },
  "cells": [
    {
      "cell_type": "markdown",
      "metadata": {
        "id": "view-in-github",
        "colab_type": "text"
      },
      "source": [
        "<a href=\"https://colab.research.google.com/github/rajeshnayak23/RAJESHNAYAK_2001206023_AIML/blob/main/RAJESH_NAYAK___2001206023__ASSIGNMENT.ipynb\" target=\"_parent\"><img src=\"https://colab.research.google.com/assets/colab-badge.svg\" alt=\"Open In Colab\"/></a>"
      ]
    },
    {
      "cell_type": "code",
      "source": [
        "#Input two numbers find remainder without ‘%’.\n"
      ],
      "metadata": {
        "id": "95fxl2xBgk2_"
      },
      "execution_count": null,
      "outputs": []
    },
    {
      "cell_type": "code",
      "source": [
        "#Input two numbers find sum without ‘+’operator\n",
        "a=int(input(\"enter the value of a\"))\n",
        "b=int(input(\"enter the value of b\"))\n",
        "def sum(a,b):\n",
        " for i in range(1,b+1):\n",
        "  a=a+1\n",
        " return a\n",
        "print(\"the sum of the value:\",sum(a,b))\n"
      ],
      "metadata": {
        "colab": {
          "base_uri": "https://localhost:8080/"
        },
        "id": "b31OnsWaXCHT",
        "outputId": "bb05d8d7-2c08-4b65-f651-5d28a4ecfdbb"
      },
      "execution_count": 9,
      "outputs": [
        {
          "output_type": "stream",
          "name": "stdout",
          "text": [
            "enter the value of a5\n",
            "enter the value of b6\n",
            "the sum of the value: 11\n"
          ]
        }
      ]
    },
    {
      "cell_type": "code",
      "source": [],
      "metadata": {
        "id": "93MGiSI3gWJN"
      },
      "execution_count": null,
      "outputs": []
    },
    {
      "cell_type": "code",
      "source": [
        "#Input Kilometer converts to centimeter, meter, and millimeter.\n",
        "\n",
        "km=int(input(\"enter the killometer value : \"))\n",
        "meter=1e3*km\n",
        "cm=1e5*km\n",
        "mm=1e6*km\n",
        "print(km,\"killometer is equal to\",meter,\"meter\")\n",
        "print(km,\"killometer is equal to \",cm,\"centimeter\")\n",
        "print(km,\"killometer is equal to \",mm,\"milimeter\")"
      ],
      "metadata": {
        "colab": {
          "base_uri": "https://localhost:8080/"
        },
        "id": "3hb-V7F1TClH",
        "outputId": "963f2691-4524-475b-8d79-ef8992174b82"
      },
      "execution_count": 7,
      "outputs": [
        {
          "output_type": "stream",
          "name": "stdout",
          "text": [
            "enter the killometer value : 4\n",
            "4 killometer is equal to 4000.0 meter\n",
            "4 killometer is equal to  400000.0 centimeter\n",
            "4 killometer is equal to  4000000.0 milimeter\n"
          ]
        }
      ]
    },
    {
      "cell_type": "code",
      "execution_count": null,
      "metadata": {
        "colab": {
          "base_uri": "https://localhost:8080/"
        },
        "id": "5P1R3G2tQmIk",
        "outputId": "f70bec9a-31de-4b8a-93e6-fa4d836449b0"
      },
      "outputs": [
        {
          "output_type": "stream",
          "name": "stdout",
          "text": [
            "enter the value of radius 14\n",
            "area of the circle is 615.44\n",
            "perimeter of the circle is 87.92\n"
          ]
        }
      ],
      "source": [
        "#Input radius finds AREA OF CIRCLE and PERIMETER OF THE CIRCLE\n",
        "r=int(input(\"enter the value of radius \"))\n",
        "area=3.14*r*r\n",
        "perimeter=2*3.14*r\n",
        "print(\"area of the circle is\",area)\n",
        "print(\"perimeter of the circle is\",perimeter)"
      ]
    }
  ]
}
{
  "nbformat": 4,
  "nbformat_minor": 0,
  "metadata": {
    "colab": {
      "provenance": [],
      "authorship_tag": "ABX9TyPDUWK6i5CQ8pli1zJy42sT",
      "include_colab_link": true
    },
    "kernelspec": {
      "name": "python3",
      "display_name": "Python 3"
    },
    "language_info": {
      "name": "python"
    }
  },
  "cells": [
    {
      "cell_type": "markdown",
      "metadata": {
        "id": "view-in-github",
        "colab_type": "text"
      },
      "source": [
        "<a href=\"https://colab.research.google.com/github/rajeshnayak23/RAJESHNAYAK_2001206023_AIML/blob/main/functions_24_02_23.ipynb\" target=\"_parent\"><img src=\"https://colab.research.google.com/assets/colab-badge.svg\" alt=\"Open In Colab\"/></a>"
      ]
    },
    {
      "cell_type": "code",
      "execution_count": 7,
      "metadata": {
        "colab": {
          "base_uri": "https://localhost:8080/"
        },
        "id": "DmLiZIWWmFC9",
        "outputId": "02b4324d-1a71-4480-92ed-9277490707d3"
      },
      "outputs": [
        {
          "output_type": "stream",
          "name": "stdout",
          "text": [
            "enter x10\n",
            "enter y33\n",
            "43\n"
          ]
        }
      ],
      "source": [
        "def sum(a,b): \n",
        "  return (a+b)\n",
        "x=int(input(\"enter x\"))\n",
        "y=int(input(\"enter y\"))\n",
        "print(sum(x,y))"
      ]
    },
    {
      "cell_type": "code",
      "source": [
        "def sum(a,b):\n",
        "  print(\"a+b=\",a+b)\n",
        "x=int(input(\"enter the value of x\"))\n",
        "y=int(input(\"rnter the value of y\"))\n",
        "sum(x,y)"
      ],
      "metadata": {
        "colab": {
          "base_uri": "https://localhost:8080/"
        },
        "id": "zEirE6XanjJa",
        "outputId": "490b5f45-555c-4170-e4d8-93e7f713cff4"
      },
      "execution_count": 8,
      "outputs": [
        {
          "output_type": "stream",
          "name": "stdout",
          "text": [
            "enter the value of x10\n",
            "rnter the value of y38\n",
            "a+b= 48\n"
          ]
        }
      ]
    },
    {
      "cell_type": "code",
      "source": [
        "def adding(x,y):\n",
        "  i=x+y\n",
        "  return i\n",
        "result=adding(16,25)\n",
        "print(result)"
      ],
      "metadata": {
        "colab": {
          "base_uri": "https://localhost:8080/"
        },
        "id": "ARr-QV4PoLS7",
        "outputId": "e093695f-3efe-412e-a4c9-9d36f7f1a077"
      },
      "execution_count": 9,
      "outputs": [
        {
          "output_type": "stream",
          "name": "stdout",
          "text": [
            "41\n"
          ]
        }
      ]
    },
    {
      "cell_type": "code",
      "source": [
        "def show(rows):\n",
        "  for i in range(0,rows+1):\n",
        "    for j in range (i):\n",
        "      print(i,end='')\n",
        "    print()\n",
        "rows=int(input(\"enter the rows\"))\n",
        "show(rows)"
      ],
      "metadata": {
        "colab": {
          "base_uri": "https://localhost:8080/"
        },
        "id": "uyQjHpApoPRw",
        "outputId": "d8d6b045-d281-4773-f9b9-81bb866eb703"
      },
      "execution_count": 12,
      "outputs": [
        {
          "output_type": "stream",
          "name": "stdout",
          "text": [
            "enter the rows5\n",
            "\n",
            "1\n",
            "22\n",
            "333\n",
            "4444\n",
            "55555\n"
          ]
        }
      ]
    },
    {
      "cell_type": "code",
      "source": [
        "def show():\n",
        "  for i in range(0,5):\n",
        "    for j in range (i,5):\n",
        "      print(5-i,end='')\n",
        "    print()\n",
        "print(show())\n"
      ],
      "metadata": {
        "colab": {
          "base_uri": "https://localhost:8080/"
        },
        "id": "w7_N0tZzqQ3w",
        "outputId": "31b5291e-0a9e-4a07-e1ce-401fc3cee935"
      },
      "execution_count": 16,
      "outputs": [
        {
          "output_type": "stream",
          "name": "stdout",
          "text": [
            "55555\n",
            "4444\n",
            "333\n",
            "22\n",
            "1\n",
            "None\n"
          ]
        }
      ]
    },
    {
      "cell_type": "code",
      "source": [
        "#local variable remains inside the function and global variable remains out side the function\n",
        "def greet():\n",
        "  message='Hello'\n",
        "  print('local',message)\n",
        "greet()\n",
        "message=('ABIT CSE')\n",
        "print(message)"
      ],
      "metadata": {
        "colab": {
          "base_uri": "https://localhost:8080/"
        },
        "id": "JeORhbnDskdU",
        "outputId": "5cd74f9d-2ea0-459a-b1c7-77edace3c6be"
      },
      "execution_count": 28,
      "outputs": [
        {
          "output_type": "stream",
          "name": "stdout",
          "text": [
            "local Hello\n",
            "ABIT CSE\n"
          ]
        }
      ]
    },
    {
      "cell_type": "code",
      "source": [
        "add=lambda num:num+4\n",
        "print(add(6))"
      ],
      "metadata": {
        "colab": {
          "base_uri": "https://localhost:8080/"
        },
        "id": "PExZbn9vut30",
        "outputId": "8a75be4b-d9e6-49c6-fa31-fb884dcc7c01"
      },
      "execution_count": 29,
      "outputs": [
        {
          "output_type": "stream",
          "name": "stdout",
          "text": [
            "10\n"
          ]
        }
      ]
    },
    {
      "cell_type": "code",
      "source": [
        "a=lambda x,y:x+y\n",
        "print(a(1,2))"
      ],
      "metadata": {
        "colab": {
          "base_uri": "https://localhost:8080/"
        },
        "id": "tPFt7cJ3wfQ4",
        "outputId": "b3faa5b5-7ee8-4fe6-82e9-9ba7cc99feea"
      },
      "execution_count": 30,
      "outputs": [
        {
          "output_type": "stream",
          "name": "stdout",
          "text": [
            "3\n"
          ]
        }
      ]
    },
    {
      "cell_type": "code",
      "source": [
        "def factorial(x):\n",
        "  if x==1:\n",
        "    return 1\n",
        "  else:\n",
        "    return(x*factorial(x-1))\n",
        "num=int(input(\"enter the number\"))\n",
        "print(\"the factorial of\",num,\"is\",factorial(num))"
      ],
      "metadata": {
        "colab": {
          "base_uri": "https://localhost:8080/"
        },
        "id": "gWW8AOWnx4_Q",
        "outputId": "b2240e8b-8ec4-49ff-83aa-295f277f9838"
      },
      "execution_count": 38,
      "outputs": [
        {
          "output_type": "stream",
          "name": "stdout",
          "text": [
            "enter the number6\n",
            "the factorial of 6 is 720\n"
          ]
        }
      ]
    },
    {
      "cell_type": "code",
      "source": [
        "def fibo(n):\n",
        " if n <= 1:\n",
        "  return n\n",
        " else:\n",
        "  return(fibo(n-1) + fibo(n-2))\n",
        "nterms = int(input(\"How many terms? \"))\n",
        "for i in range(nterms):  \n",
        "       print(fibo(i))"
      ],
      "metadata": {
        "colab": {
          "base_uri": "https://localhost:8080/"
        },
        "id": "gEFoCzjpznER",
        "outputId": "945e7728-3b82-4cbc-d4e3-c1665c17d0cd"
      },
      "execution_count": 39,
      "outputs": [
        {
          "output_type": "stream",
          "name": "stdout",
          "text": [
            "How many terms? 5\n",
            "5\n"
          ]
        }
      ]
    },
    {
      "cell_type": "code",
      "source": [
        "import math as rajesh\n",
        "pie=rajesh.pi\n",
        "print(\"the value of pi is\",pie)"
      ],
      "metadata": {
        "colab": {
          "base_uri": "https://localhost:8080/"
        },
        "id": "MA8pN-fx2jC-",
        "outputId": "45665c17-6c45-44d8-c7e8-09a423a60af3"
      },
      "execution_count": 41,
      "outputs": [
        {
          "output_type": "stream",
          "name": "stdout",
          "text": [
            "the value of pi is 3.141592653589793\n"
          ]
        }
      ]
    },
    {
      "cell_type": "code",
      "source": [
        "import math\n",
        "pie=math.pi\n",
        "print(pie)"
      ],
      "metadata": {
        "colab": {
          "base_uri": "https://localhost:8080/"
        },
        "id": "SuOx82013Cpe",
        "outputId": "67c62a6e-cb1e-4e5b-e470-9f1b9548d717"
      },
      "execution_count": 43,
      "outputs": [
        {
          "output_type": "stream",
          "name": "stdout",
          "text": [
            "3.141592653589793\n"
          ]
        }
      ]
    },
    {
      "cell_type": "code",
      "source": [
        "import random as rajesh\n",
        "for i in range(10):\n",
        "  print(rajesh.randint(0,25))"
      ],
      "metadata": {
        "colab": {
          "base_uri": "https://localhost:8080/"
        },
        "id": "LbswOzQH3Plz",
        "outputId": "a8c55c68-1d87-4c4f-8e83-19c83207b9f9"
      },
      "execution_count": 48,
      "outputs": [
        {
          "output_type": "stream",
          "name": "stdout",
          "text": [
            "15\n",
            "18\n",
            "23\n",
            "16\n",
            "25\n",
            "20\n",
            "16\n",
            "20\n",
            "24\n",
            "15\n"
          ]
        }
      ]
    },
    {
      "cell_type": "code",
      "source": [
        "import random\n",
        "import math\n",
        "for i in range(5):\n",
        " print(random.randint(1, 25))\n",
        " print(math.pi)"
      ],
      "metadata": {
        "colab": {
          "base_uri": "https://localhost:8080/"
        },
        "id": "ARIKKsUw4Ii6",
        "outputId": "738af596-82fb-4429-888a-05ca1fcb6816"
      },
      "execution_count": 50,
      "outputs": [
        {
          "output_type": "stream",
          "name": "stdout",
          "text": [
            "25\n",
            "3.141592653589793\n",
            "7\n",
            "3.141592653589793\n",
            "5\n",
            "3.141592653589793\n",
            "16\n",
            "3.141592653589793\n",
            "8\n",
            "3.141592653589793\n"
          ]
        }
      ]
    },
    {
      "cell_type": "code",
      "source": [],
      "metadata": {
        "id": "wGbfwt0L4lxq"
      },
      "execution_count": null,
      "outputs": []
    },
    {
      "cell_type": "code",
      "source": [],
      "metadata": {
        "id": "YUCHbhSJ4lv_"
      },
      "execution_count": null,
      "outputs": []
    }
  ]
}
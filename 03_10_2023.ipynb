{
  "nbformat": 4,
  "nbformat_minor": 0,
  "metadata": {
    "colab": {
      "provenance": [],
      "authorship_tag": "ABX9TyPFrbf2Pnpjf19ndsDY9NLK",
      "include_colab_link": true
    },
    "kernelspec": {
      "name": "python3",
      "display_name": "Python 3"
    },
    "language_info": {
      "name": "python"
    }
  },
  "cells": [
    {
      "cell_type": "markdown",
      "metadata": {
        "id": "view-in-github",
        "colab_type": "text"
      },
      "source": [
        "<a href=\"https://colab.research.google.com/github/rajeshnayak23/RAJESHNAYAK_2001206023_AIML/blob/main/03_10_2023.ipynb\" target=\"_parent\"><img src=\"https://colab.research.google.com/assets/colab-badge.svg\" alt=\"Open In Colab\"/></a>"
      ]
    },
    {
      "cell_type": "code",
      "execution_count": null,
      "metadata": {
        "colab": {
          "base_uri": "https://localhost:8080/"
        },
        "id": "1kXtrOtFpqry",
        "outputId": "e5ce1315-b513-4d86-aec3-dcc44c95822f"
      },
      "outputs": [
        {
          "output_type": "stream",
          "name": "stdout",
          "text": [
            "a=9\n",
            "b=7\n",
            "16\n",
            "63\n"
          ]
        }
      ],
      "source": [
        "class base:\n",
        "  def add(self,a,b):\n",
        "    return a+b\n",
        "class derived(base):\n",
        "  def mul(self,a,b):\n",
        "    return a*b\n",
        "m=int(input(\"a=\"))\n",
        "n=int(input(\"b=\"))\n",
        "obj=derived()\n",
        "print(obj.add(m,n))\n",
        "print(obj.mul(m,n))"
      ]
    },
    {
      "cell_type": "code",
      "source": [
        "#wap using multilevel inheritance to develop a calculator which contains four derived of derived class and only one child class\n",
        "class cls1:\n",
        "  def add(self,a,b):\n",
        "    return a+b\n",
        "class cls2(cls1):\n",
        "  def sub(self,a,b):\n",
        "    return a-b\n",
        "class cls3(cls2):\n",
        "  def mul(self,a,b):\n",
        "    return a*b\n",
        "class cls4(cls3):\n",
        "  def div(self,a,b):\n",
        "    return a/b\n",
        "class cls5(cls4):\n",
        "  def rem(self,a,b):\n",
        "    return a%b\n",
        "m=int(input(\"a = \"))\n",
        "n=int(input(\"b = \"))\n",
        "obj=cls5()\n",
        "print(\"a+b=\",obj.add(m,n))\n",
        "print(obj.sub(m,n))\n",
        "print(obj.mul(m,n))\n",
        "print(obj.div(m,n))\n",
        "print(obj.rem(m,n))"
      ],
      "metadata": {
        "id": "SnpLhKnRv_EO",
        "colab": {
          "base_uri": "https://localhost:8080/"
        },
        "outputId": "5321879f-a0d5-4d07-e6ca-110d1e3c13d0"
      },
      "execution_count": 9,
      "outputs": [
        {
          "output_type": "stream",
          "name": "stdout",
          "text": [
            "b = 4\n",
            "a+b= 14\n",
            "6\n",
            "40\n",
            "2.5\n",
            "2\n"
          ]
        }
      ]
    },
    {
      "cell_type": "code",
      "source": [
        "class cls1:\n",
        "  def add(self,a,b):\n",
        "    return a+b\n",
        "class cls2:\n",
        "  def sub(self,a,b):\n",
        "    return a-b\n",
        "class cls3:\n",
        "  def mul(self,a,b):\n",
        "    return a*b\n",
        "class cls4:\n",
        "  def div(self,a,b):\n",
        "    return a/b\n",
        "class cls5(cls1,cls2,cls3,cls4):\n",
        "  def rem(self,a,b):\n",
        "    return a%b\n",
        "m=int(input(\"a = \"))\n",
        "n=int(input(\"b = \"))\n",
        "obj=cls5()\n",
        "print(obj.add(m,n))\n",
        "print(obj.sub(m,n))\n",
        "print(obj.mul(m,n))\n",
        "print(obj.div(m,n))\n",
        "print(obj.rem(m,n))\n"
      ],
      "metadata": {
        "colab": {
          "base_uri": "https://localhost:8080/"
        },
        "id": "It8z8EZlyvGt",
        "outputId": "83279617-3cd7-46fe-f26e-263cdaa6b7aa"
      },
      "execution_count": null,
      "outputs": [
        {
          "output_type": "stream",
          "name": "stdout",
          "text": [
            "a = 20\n",
            "b = 10\n",
            "30\n",
            "10\n",
            "200\n",
            "2.0\n",
            "0\n"
          ]
        }
      ]
    },
    {
      "cell_type": "code",
      "source": [
        "#write apython program to input employee informations employee id ,name,basic salary ,hra=15 % ,ta=5% and medical allowence=5% if basic salary is 5000 and if 10% more than 10000\n",
        "#usig single inheritance the base class contains all the informations but the derived contains the net saalry of aemployee with all informations.\n"
      ],
      "metadata": {
        "id": "VAnIGdNt0L-2"
      },
      "execution_count": null,
      "outputs": []
    },
    {
      "cell_type": "code",
      "source": [
        "import numpy as np\n",
        "print(np.__version__)"
      ],
      "metadata": {
        "id": "oC-79JaS4qJY",
        "colab": {
          "base_uri": "https://localhost:8080/"
        },
        "outputId": "f4c6fbb1-6633-4780-82cb-cccbdb901429"
      },
      "execution_count": 13,
      "outputs": [
        {
          "output_type": "stream",
          "name": "stdout",
          "text": [
            "1.22.4\n"
          ]
        }
      ]
    },
    {
      "cell_type": "code",
      "source": [
        "import numpy\n",
        "list=[10,20,30,40,50]\n",
        "arr=numpy.array(list)\n",
        "print(arr)\n"
      ],
      "metadata": {
        "id": "jIiaA8iM59hU",
        "colab": {
          "base_uri": "https://localhost:8080/"
        },
        "outputId": "cdfe7c9d-614c-4a3a-c2d7-e188186a9b1b"
      },
      "execution_count": 12,
      "outputs": [
        {
          "output_type": "stream",
          "name": "stdout",
          "text": [
            "[10 20 30 40 50]\n"
          ]
        }
      ]
    },
    {
      "cell_type": "code",
      "source": [
        "import numpy as numpy\n",
        "list=[[10,20,30],[40,50,60]]\n",
        "arr=np.array(list)\n",
        "print(arr)\n"
      ],
      "metadata": {
        "colab": {
          "base_uri": "https://localhost:8080/"
        },
        "id": "m7hPhIYi6oPI",
        "outputId": "7c7bfa75-887d-4815-fb94-d6e6e4f2cdeb"
      },
      "execution_count": 14,
      "outputs": [
        {
          "output_type": "stream",
          "name": "stdout",
          "text": [
            "[[10 20 30]\n",
            " [40 50 60]]\n"
          ]
        }
      ]
    },
    {
      "cell_type": "code",
      "source": [
        "import numpy as numpy\n",
        "list=[[10,20,30],[40,50,60]]\n",
        "arr=np.array(list)\n",
        "print(arr[1])"
      ],
      "metadata": {
        "colab": {
          "base_uri": "https://localhost:8080/"
        },
        "id": "Hxq4B_e48j_Q",
        "outputId": "3cc8dd13-741b-4028-8de4-39c41cf932c5"
      },
      "execution_count": 15,
      "outputs": [
        {
          "output_type": "stream",
          "name": "stdout",
          "text": [
            "[40 50 60]\n"
          ]
        }
      ]
    },
    {
      "cell_type": "code",
      "source": [
        "import numpy as numpy\n",
        "list=[[10,20,30],[40,50,60]]\n",
        "arr=np.array(list)\n",
        "print(arr[1][1])"
      ],
      "metadata": {
        "colab": {
          "base_uri": "https://localhost:8080/"
        },
        "id": "cAdgJfnz8oR0",
        "outputId": "5ade46a0-d94d-4490-e62a-52a62c51f4a2"
      },
      "execution_count": 16,
      "outputs": [
        {
          "output_type": "stream",
          "name": "stdout",
          "text": [
            "50\n"
          ]
        }
      ]
    },
    {
      "cell_type": "code",
      "source": [
        "import numpy as numpy\n",
        "list=[[[1,2,3],[4,5,6],[7,8,9]]]\n",
        "arr=np.array(list)\n",
        "print(\"3D array is \",arr)"
      ],
      "metadata": {
        "colab": {
          "base_uri": "https://localhost:8080/"
        },
        "id": "BOh-IyTM-a9W",
        "outputId": "0fa683c7-025f-4b24-cb46-786aca15468c"
      },
      "execution_count": 21,
      "outputs": [
        {
          "output_type": "stream",
          "name": "stdout",
          "text": [
            "3D array is  [[[1 2 3]\n",
            "  [4 5 6]\n",
            "  [7 8 9]]]\n"
          ]
        }
      ]
    },
    {
      "cell_type": "code",
      "source": [
        "import numpy as np\n",
        "list=[10,20,30,40,50,60]\n",
        "arr=numpy.array(list)\n",
        "print('Element')\n",
        "for ele in arr:\n",
        "  print(ele*2)"
      ],
      "metadata": {
        "colab": {
          "base_uri": "https://localhost:8080/"
        },
        "id": "lMjXrNEM_bD-",
        "outputId": "e00046f3-e9bd-451a-b88a-9675a0415653"
      },
      "execution_count": 20,
      "outputs": [
        {
          "output_type": "stream",
          "name": "stdout",
          "text": [
            "Element\n",
            "20\n",
            "40\n",
            "60\n",
            "80\n",
            "100\n",
            "120\n"
          ]
        }
      ]
    },
    {
      "cell_type": "code",
      "source": [
        "import numpy as np\n",
        "ndArray=np.array([1,2,3,4],ndmin=6)\n",
        "print(ndArray)\n",
        "print('Dimesion of array',ndArray.ndim)"
      ],
      "metadata": {
        "colab": {
          "base_uri": "https://localhost:8080/"
        },
        "id": "ruiQFCSoAP6Y",
        "outputId": "70bb7e6c-c231-40d4-da9b-cfc2a6848ffd"
      },
      "execution_count": 22,
      "outputs": [
        {
          "output_type": "stream",
          "name": "stdout",
          "text": [
            "[[[[[[1 2 3 4]]]]]]\n",
            "Dimesion of array 6\n"
          ]
        }
      ]
    }
  ]
}